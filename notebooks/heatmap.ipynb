{
 "cells": [
  {
   "cell_type": "markdown",
   "metadata": {},
   "source": [
    "### Inicialização do ambiante\n",
    "\n",
    "Para testar o script de geração do mapa de calor, vamos gerar pontos de calor randomicos utlizando as coordenadas da cidade de Blumenau.\n",
    "\n",
    "Latitude e longitude vem de http://bboxfinder.com/#-27.007138,-49.159698,-26.674459,-48.965378\n",
    "\n",
    "Acurária do 3º decimal é de ~100m\n",
    "https://gis.stackexchange.com/questions/8650/measuring-accuracy-of-latitude-and-longitude"
   ]
  },
  {
   "cell_type": "code",
   "execution_count": 1,
   "metadata": {},
   "outputs": [],
   "source": [
    "# Carrega bibliotecas utilizadas\n",
    "import folium\n",
    "import pandas as pd\n",
    "from folium import plugins\n",
    "import geopy\n",
    "import string"
   ]
  },
  {
   "cell_type": "code",
   "execution_count": 2,
   "metadata": {},
   "outputs": [
    {
     "name": "stdout",
     "output_type": "stream",
     "text": [
      "555 registros removidos\n"
     ]
    }
   ],
   "source": [
    "ARQUIVO_DADOS = \"/home/jvanz/vulneraveis/dados.csv\"\n",
    "\n",
    "ARQUIVO_COORDENADAS = \"/home/jvanz/vulneraveis/dados_coordenadas.csv\"\n",
    "\n",
    "# limpeza dos dados\n",
    "dados = pd.read_csv(ARQUIVO_DADOS, sep=\";\")\n",
    "shape_anterior = dados.shape\n",
    "\n",
    "# ajusta ceps. Remove os \"-\" e mantem apenas aquelas com 8 digitos\n",
    "dados['cep'] = dados[\"cep\"].astype(str).map(lambda x: x.strip().replace('-','')).map(lambda x: x if len(x) == 8 else \"\")\n",
    "\n",
    "# ajusta logradouro. Remove espaços em brancos e pontuações na extremidades do texto\n",
    "dados['logradouro'] = dados[\"logradouro\"].astype(str).map(lambda x: x.strip(string.whitespace + string.punctuation))\n",
    "dados = dados.loc[dados[\"logradouro\"] != \"nan\"]\n",
    "\n",
    "#ajusta nome do bairro\n",
    "dados[\"bairro\"] = dados[\"bairro\"].astype(str).map(lambda x: x.strip(string.whitespace + string.punctuation))\n",
    "dados.loc[dados[\"bairro\"] == \"nan\", \"bairro\"] = \"\"\n",
    "\n",
    "# ajusta numero. Permite apenas numeros\n",
    "def ajusta_numero(numero):\n",
    "    \"\"\"Permite apenas numeros com digitos\"\"\"\n",
    "    numero = numero.strip(string.whitespace + string.punctuation)\n",
    "    return numero if numero.isnumeric() else \"\"\n",
    "    \n",
    "dados['numero'] = dados[\"numero\"].astype(str).map(ajusta_numero)\n",
    "\n",
    "print(f\"{shape_anterior[0] - dados.shape[0]} registros removidos\")\n"
   ]
  },
  {
   "cell_type": "code",
   "execution_count": 4,
   "metadata": {},
   "outputs": [],
   "source": [
    "\n",
    "\n",
    "#deseja carregar as coordenadas?\n",
    "carrega_coordenada = True\n",
    "GOOGLE_API_KEY = \"COLOQUE SUA CHAVE DE API AQUI\"\n",
    "\n",
    "localizador = geopy.geocoders.GoogleV3(GOOGLE_API_KEY)\n",
    "\n",
    "def get_coordenadas(linha):\n",
    "    \"\"\"Função que busca as coordenadas utilizando o localizador definido.\"\"\"\n",
    "    if linha[\"latitude\"] and linha[\"latitude\"] != 0 and linha[\"longitude\"] and linha[\"longitude\"] != 0:\n",
    "        # não precisamos buscar coordenadas que já temos\n",
    "        return linha\n",
    "    localizacao = localizador.geocode(linha[\"endereco_completo\"])\n",
    "    if localizacao:\n",
    "        linha[\"latitude\"] = localizacao.latitude\n",
    "        linha[\"longitude\"] = localizacao.longitude\n",
    "    return linha\n",
    "\n",
    "def monta_endereco_completo(linha):\n",
    "    \"\"\"Monta linha do endereço complete conforme dados disponiveis.\"\"\"\n",
    "    endereco = dados[\"logradouro\"]\n",
    "    endereco += \",\" + linha[\"numero\"] if len(linha[\"numero\"]) > 0 else \"\"\n",
    "    endereco += \",\" + linha[\"bairro\"] if len(linha[\"bairro\"]) > 0 else \"\"\n",
    "    endereco += \", Blumenau, Santa Catarina, Brasil\"\n",
    "    linha[\"endereco_completo\"] = endereco\n",
    "    return linha\n",
    "\n",
    "\n",
    "\n",
    "# Precisa buscar as coordenadas novamente?\n",
    "if carrega_coordenada:\n",
    "    # colocar valores default para as coordenadas\n",
    "    dados[\"latitude\"] = 0\n",
    "    dados[\"longitude\"] = 0\n",
    "    # monta um endereco completo para ser utlizado pelo buscador de coordenadas\n",
    "    dados = dados.apply(monta_endereco_completo, axis=1)\n",
    "    # procura latitude e longitude dos endereços\n",
    "    dados = dados.apply(get_coordenadas, axis=1)\n",
    "    # grava o arquivo com as coordenadas\n",
    "    dados.to_csv(ARQUIVO_COORDENADAS,sep=\";\", index=False)"
   ]
  },
  {
   "cell_type": "markdown",
   "metadata": {},
   "source": [
    "### Geração do mapa de calor"
   ]
  },
  {
   "cell_type": "code",
   "execution_count": null,
   "metadata": {},
   "outputs": [],
   "source": [
    "# Carrega coordenadas dos pontos de calor do arquivo\n",
    "coordenadas = pd.read_csv(ARQUIVO_COORDENADAS, sep=\";\")\n",
    "coordenadas = coordenadas[[\"latitude\", \"longitude\"]]\n",
    "# ignore coordenadas invalidas\n",
    "coordenadas = coordenadas[(coordenadas.latitude != 0) & (coordenadas.longitude != 0)]\n",
    "\n",
    "long_min =  coordenadas.longitude.min()\n",
    "long_max =  coordenadas.longitude.max()\n",
    "lat_min = coordenadas.latitude.min()\n",
    "lat_max = coordenadas.latitude.max()\n",
    "\n",
    "# Plota o gráfico do mapa de calor\n",
    "m = folium.Map(\n",
    "    [np.mean([lat_min, lat_max]), np.mean([long_min, long_max])],\n",
    "    zoom_start=11\n",
    ")\n",
    "\n",
    "m.add_child(\n",
    "    plugins.HeatMap(coordenadas, radius=15)\n",
    ")\n",
    "\n",
    "m"
   ]
  },
  {
   "cell_type": "code",
   "execution_count": null,
   "metadata": {},
   "outputs": [],
   "source": []
  }
 ],
 "metadata": {
  "kernelspec": {
   "display_name": "Python 3",
   "language": "python",
   "name": "python3"
  },
  "language_info": {
   "codemirror_mode": {
    "name": "ipython",
    "version": 3
   },
   "file_extension": ".py",
   "mimetype": "text/x-python",
   "name": "python",
   "nbconvert_exporter": "python",
   "pygments_lexer": "ipython3",
   "version": "3.6.10"
  }
 },
 "nbformat": 4,
 "nbformat_minor": 4
}
